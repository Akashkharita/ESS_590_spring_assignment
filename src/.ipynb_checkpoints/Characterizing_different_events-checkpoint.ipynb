{
 "cells": [
  {
   "cell_type": "code",
   "execution_count": 3,
   "id": "16893cb7",
   "metadata": {},
   "outputs": [],
   "source": [
    "%matplotlib inline\n",
    "import matplotlib.pyplot as plt\n",
    "plt.style.use(\"bmh\")\n",
    "plt.rcParams['figure.figsize'] = 10, 6\n",
    "\n",
    "\n",
    "import pandas as pd\n",
    "import numpy as np\n",
    "import scipy as sc\n",
    "from scipy import signal\n",
    "\n",
    "import matplotlib.pyplot as plt\n",
    "import h5py\n",
    "import obspy\n",
    "from obspy.signal.filter import envelope\n",
    "from obspy.clients.fdsn import Client\n",
    "from tqdm import tqdm\n",
    "from glob import glob\n",
    "import tsfel\n",
    "import random\n",
    "\n",
    "client = Client('IRIS')\n",
    "\n",
    "import os\n",
    "import pickle\n",
    "\n",
    "import matplotlib.pyplot as plt\n",
    "import numpy as np\n",
    "\n",
    "from scatseisnet import ScatteringNetwork\n",
    "import matplotlib.dates as mdates\n",
    "\n",
    "from scipy.cluster.hierarchy import dendrogram, linkage\n",
    "from sklearn.cluster import KMeans\n",
    "\n",
    "#%config InlineBackend.figure_format = \"png\"\n",
    "\n",
    "#from Feature_Extraction import compute_hibert\n",
    "\n",
    "import warnings\n",
    "\n",
    "# Ignore all warnings\n",
    "warnings.filterwarnings(\"ignore\")\n",
    "\n"
   ]
  },
  {
   "cell_type": "code",
   "execution_count": 4,
   "id": "c3da1b64",
   "metadata": {},
   "outputs": [],
   "source": [
    "# collecting waveform data and corresponding catalog.\n",
    "exotic_file_name = \"/data/whd01/yiyu_data/PNWML/exotic_waveforms.hdf5\"\n",
    "exotic_csv_file = \"/data/whd01/yiyu_data/PNWML/exotic_metadata.csv\"\n",
    "\n",
    "noise_file_name = \"/data/whd01/yiyu_data/PNWML/noise_waveforms.hdf5\"\n",
    "noise_csv_file = \"/data/whd01/yiyu_data/PNWML/noise_metadata.csv\"\n",
    "\n",
    "comcat_file_name = \"/data/whd01/yiyu_data/PNWML/comcat_waveforms.hdf5\"\n",
    "comcat_csv_file = \"/data/whd01/yiyu_data/PNWML/comcat_metadata.csv\"\n",
    "\n"
   ]
  },
  {
   "cell_type": "code",
   "execution_count": 5,
   "id": "6dc7a71c",
   "metadata": {},
   "outputs": [],
   "source": [
    "## collecting the catalog and storing it. \n",
    "cat_exotic = pd.read_csv(exotic_csv_file)\n",
    "cat_noise = pd.read_csv(noise_csv_file)\n",
    "cat_comcat = pd.read_csv(comcat_csv_file)"
   ]
  },
  {
   "cell_type": "code",
   "execution_count": 18,
   "id": "6e63d77a",
   "metadata": {},
   "outputs": [],
   "source": [
    "snrs_exotic = []\n",
    "for i in range(len(cat_exotic['trace_snr_db'])):\n",
    "    snrs_exotic.append(np.array(cat_exotic['trace_snr_db'].values[i].split('|')).astype('float')[-1])"
   ]
  },
  {
   "cell_type": "code",
   "execution_count": 20,
   "id": "b125394d",
   "metadata": {},
   "outputs": [
    {
     "data": {
      "text/plain": [
       "(array([  3.90000000e+01,   3.29000000e+02,   1.64200000e+03,\n",
       "          3.17800000e+03,   2.41900000e+03,   1.06100000e+03,\n",
       "          4.23000000e+02,   1.51000000e+02,   2.20000000e+01,\n",
       "          3.00000000e+00]),\n",
       " array([-18.789 , -10.5674,  -2.3458,   5.8758,  14.0974,  22.319 ,\n",
       "         30.5406,  38.7622,  46.9838,  55.2054,  63.427 ]),\n",
       " <BarContainer object of 10 artists>)"
      ]
     },
     "execution_count": 20,
     "metadata": {},
     "output_type": "execute_result"
    },
    {
     "data": {
      "image/png": "[encoded data removed]",
      "text/plain": [
       "<Figure size 720x432 with 1 Axes>"
      ]
     },
     "metadata": {
      "needs_background": "light"
     },
     "output_type": "display_data"
    }
   ],
   "source": [
    "plt.hist(snrs_exotic)"
   ]
  },
  {
   "cell_type": "raw",
   "id": "67c08180",
   "metadata": {},
   "source": []
  },
  {
   "cell_type": "code",
   "execution_count": null,
   "id": "4a4009b4",
   "metadata": {},
   "outputs": [],
   "source": []
  },
  {
   "cell_type": "code",
   "execution_count": null,
   "id": "7e61887f",
   "metadata": {},
   "outputs": [],
   "source": []
  },
  {
   "cell_type": "code",
   "execution_count": null,
   "id": "abf13954",
   "metadata": {},
   "outputs": [],
   "source": []
  }
 ],
 "metadata": {
  "kernelspec": {
   "display_name": "roses_2021",
   "language": "python",
   "name": "roses_2021"
  },
  "language_info": {
   "codemirror_mode": {
    "name": "ipython",
    "version": 3
   },
   "file_extension": ".py",
   "mimetype": "text/x-python",
   "name": "python",
   "nbconvert_exporter": "python",
   "pygments_lexer": "ipython3",
   "version": "3.9.5"
  }
 },
 "nbformat": 4,
 "nbformat_minor": 5
}
